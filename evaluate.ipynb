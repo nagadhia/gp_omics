{
 "cells": [
  {
   "cell_type": "code",
   "execution_count": 24,
   "metadata": {},
   "outputs": [
    {
     "name": "stdout",
     "output_type": "stream",
     "text": [
      "Split 1/100 - Accuracy: 0.8889, Precision: 0.8889, Recall: 1.0000, F1 Score: 0.9412\n",
      "Split 2/100 - Accuracy: 0.9444, Precision: 0.9444, Recall: 1.0000, F1 Score: 0.9714\n",
      "Split 3/100 - Accuracy: 0.8333, Precision: 0.8235, Recall: 1.0000, F1 Score: 0.9032\n",
      "Split 4/100 - Accuracy: 0.6667, Precision: 0.6471, Recall: 1.0000, F1 Score: 0.7857\n",
      "Split 5/100 - Accuracy: 0.6667, Precision: 0.6667, Recall: 1.0000, F1 Score: 0.8000\n",
      "Split 6/100 - Accuracy: 0.7222, Precision: 0.7059, Recall: 1.0000, F1 Score: 0.8276\n",
      "Split 7/100 - Accuracy: 0.8333, Precision: 0.8333, Recall: 1.0000, F1 Score: 0.9091\n",
      "Split 8/100 - Accuracy: 0.8333, Precision: 0.8333, Recall: 1.0000, F1 Score: 0.9091\n",
      "Split 9/100 - Accuracy: 0.7222, Precision: 0.7222, Recall: 1.0000, F1 Score: 0.8387\n",
      "Split 10/100 - Accuracy: 0.8333, Precision: 0.8235, Recall: 1.0000, F1 Score: 0.9032\n",
      "Split 11/100 - Accuracy: 0.8889, Precision: 0.8824, Recall: 1.0000, F1 Score: 0.9375\n",
      "Split 12/100 - Accuracy: 0.8333, Precision: 0.8333, Recall: 1.0000, F1 Score: 0.9091\n",
      "Split 13/100 - Accuracy: 0.9444, Precision: 0.9412, Recall: 1.0000, F1 Score: 0.9697\n",
      "Split 14/100 - Accuracy: 0.7778, Precision: 0.7647, Recall: 1.0000, F1 Score: 0.8667\n",
      "Split 15/100 - Accuracy: 0.8889, Precision: 0.8824, Recall: 1.0000, F1 Score: 0.9375\n",
      "Split 16/100 - Accuracy: 0.8333, Precision: 0.8235, Recall: 1.0000, F1 Score: 0.9032\n",
      "Split 17/100 - Accuracy: 0.7778, Precision: 0.7500, Recall: 1.0000, F1 Score: 0.8571\n",
      "Split 18/100 - Accuracy: 0.8333, Precision: 0.8333, Recall: 1.0000, F1 Score: 0.9091\n",
      "Split 19/100 - Accuracy: 0.7778, Precision: 0.7778, Recall: 1.0000, F1 Score: 0.8750\n",
      "Split 20/100 - Accuracy: 0.7778, Precision: 0.7778, Recall: 1.0000, F1 Score: 0.8750\n",
      "\n",
      "Overall Performance:\n",
      "Mean Accuracy: 0.8139 ± 0.0771\n",
      "Mean Precision: 0.8078 ± 0.0800\n",
      "Mean Recall: 1.0000 ± 0.0000\n",
      "Mean F1 Score: 0.8915 ± 0.0498\n"
     ]
    }
   ],
   "source": [
    "import numpy as np\n",
    "import pandas as pd\n",
    "from sklearn.metrics import accuracy_score, precision_score, recall_score, f1_score\n",
    "from tqdm import tqdm\n",
    "\n",
    "base_path = \"/Users/nandini.gadhia/Documents/projects/gp_omics/GP_OMICS/outdir_nan/split_\"\n",
    "n_splits = 100 \n",
    "\n",
    "accuracies = []\n",
    "precisions = []\n",
    "recalls = []\n",
    "f1_scores = []\n",
    "\n",
    "for i in range(60):\n",
    "    try:\n",
    "        # Load true labels\n",
    "        y_test = np.loadtxt(base_path + f\"{i}_Y_test.csv\", delimiter=\",\")\n",
    "        \n",
    "        # Load predicted labels\n",
    "        y_pred = np.loadtxt(base_path + f\"{i}_Pred_Y_mean.csv\", delimiter=\",\")\n",
    "        \n",
    "        # Compute metrics\n",
    "        accuracy = accuracy_score(y_test, y_pred)\n",
    "        precision = precision_score(y_test, y_pred, zero_division=0)\n",
    "        recall = recall_score(y_test, y_pred, zero_division=0)\n",
    "        f1 = f1_score(y_test, y_pred, zero_division=0)\n",
    "        \n",
    "        # Store results\n",
    "        accuracies.append(accuracy)\n",
    "        precisions.append(precision)\n",
    "        recalls.append(recall)\n",
    "        f1_scores.append(f1)\n",
    "        \n",
    "        print(f\"Split {i + 1}/{n_splits} - Accuracy: {accuracy:.4f}, Precision: {precision:.4f}, Recall: {recall:.4f}, F1 Score: {f1:.4f}\")\n",
    "        \n",
    "    except Exception as e:\n",
    "        print(f\"Error processing split {i}: {e}\")\n",
    "\n",
    "# Compute overall performance\n",
    "print(\"\\nOverall Performance:\")\n",
    "print(f\"Mean Accuracy: {np.mean(accuracies):.4f} ± {np.std(accuracies):.4f}\")\n",
    "print(f\"Mean Precision: {np.mean(precisions):.4f} ± {np.std(precisions):.4f}\")\n",
    "print(f\"Mean Recall: {np.mean(recalls):.4f} ± {np.std(recalls):.4f}\")\n",
    "print(f\"Mean F1 Score: {np.mean(f1_scores):.4f} ± {np.std(f1_scores):.4f}\")\n"
   ]
  },
  {
   "cell_type": "code",
   "execution_count": 26,
   "metadata": {},
   "outputs": [
    {
     "data": {
      "text/plain": [
       "(array([2., 0., 2., 0., 4., 0., 7., 0., 3., 2.]),\n",
       " array([0.66666667, 0.69444444, 0.72222222, 0.75      , 0.77777778,\n",
       "        0.80555556, 0.83333333, 0.86111111, 0.88888889, 0.91666667,\n",
       "        0.94444444]),\n",
       " <BarContainer object of 10 artists>)"
      ]
     },
     "execution_count": 26,
     "metadata": {},
     "output_type": "execute_result"
    },
    {
     "data": {
      "image/png": "[encoded data removed]",
      "text/plain": [
       "<Figure size 640x480 with 1 Axes>"
      ]
     },
     "metadata": {},
     "output_type": "display_data"
    }
   ],
   "source": [
    "import matplotlib.pyplot as plt\n",
    "plt.hist(accuracies)"
   ]
  }
 ],
 "metadata": {
  "kernelspec": {
   "display_name": "aligness",
   "language": "python",
   "name": "python3"
  },
  "language_info": {
   "codemirror_mode": {
    "name": "ipython",
    "version": 3
   },
   "file_extension": ".py",
   "mimetype": "text/x-python",
   "name": "python",
   "nbconvert_exporter": "python",
   "pygments_lexer": "ipython3",
   "version": "3.9.21"
  }
 },
 "nbformat": 4,
 "nbformat_minor": 2
}

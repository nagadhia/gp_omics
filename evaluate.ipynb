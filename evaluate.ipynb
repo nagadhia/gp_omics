{
 "cells": [
  {
   "cell_type": "code",
   "execution_count": 9,
   "metadata": {},
   "outputs": [
    {
     "name": "stdout",
     "output_type": "stream",
     "text": [
      "\n",
      "Overall Performance:\n",
      "Mean Accuracy: 0.7648 ± 0.0948\n",
      "Mean Precision: 0.7648 ± 0.0948\n",
      "Mean Recall: 1.0000 ± 0.0000\n",
      "Mean F1 Score: 0.8633 ± 0.0638\n"
     ]
    },
    {
     "data": {
      "text/plain": [
       "(array([3., 0., 2., 0., 6., 9., 0., 6., 3., 1.]),\n",
       " array([0.55555556, 0.59444444, 0.63333333, 0.67222222, 0.71111111,\n",
       "        0.75      , 0.78888889, 0.82777778, 0.86666667, 0.90555556,\n",
       "        0.94444444]),\n",
       " <BarContainer object of 10 artists>)"
      ]
     },
     "execution_count": 9,
     "metadata": {},
     "output_type": "execute_result"
    },
    {
     "data": {
      "image/png": "[encoded data removed]",
      "text/plain": [
       "<Figure size 640x480 with 1 Axes>"
      ]
     },
     "metadata": {},
     "output_type": "display_data"
    }
   ],
   "source": [
    "import numpy as np\n",
    "import pandas as pd\n",
    "from sklearn.metrics import accuracy_score, precision_score, recall_score, f1_score\n",
    "from tqdm import tqdm\n",
    "\n",
    "base_path = \"/Users/nandini.gadhia/Documents/projects/gp_omics/GP_OMICS/outdir/split_\"\n",
    "n_splits = 100 \n",
    "\n",
    "accuracies = []\n",
    "precisions = []\n",
    "recalls = []\n",
    "f1_scores = []\n",
    "\n",
    "for i in range(30):\n",
    "    try:\n",
    "        # Load true labels\n",
    "        y_test = np.loadtxt(base_path + f\"{i}_Y_test.csv\", delimiter=\",\")\n",
    "        \n",
    "        # Load predicted labels\n",
    "        y_pred = np.loadtxt(base_path + f\"{i}_Pred_Y_mean.csv\", delimiter=\",\")\n",
    "        \n",
    "        # Compute metrics\n",
    "        accuracy = accuracy_score(y_test, y_pred)\n",
    "        precision = precision_score(y_test, y_pred, zero_division=0)\n",
    "        recall = recall_score(y_test, y_pred, zero_division=0)\n",
    "        f1 = f1_score(y_test, y_pred, zero_division=0)\n",
    "        \n",
    "        # Store results\n",
    "        accuracies.append(accuracy)\n",
    "        precisions.append(precision)\n",
    "        recalls.append(recall)\n",
    "        f1_scores.append(f1)\n",
    "        \n",
    "        #print(f\"Split {i + 1}/{n_splits} - Accuracy: {accuracy:.4f}, Precision: {precision:.4f}, Recall: {recall:.4f}, F1 Score: {f1:.4f}\")\n",
    "        \n",
    "    except Exception as e:\n",
    "        print(f\"Error processing split {i}: {e}\")\n",
    "\n",
    "# Compute overall performance\n",
    "print(\"\\nOverall Performance:\")\n",
    "print(f\"Mean Accuracy: {np.mean(accuracies):.4f} ± {np.std(accuracies):.4f}\")\n",
    "print(f\"Mean Precision: {np.mean(precisions):.4f} ± {np.std(precisions):.4f}\")\n",
    "print(f\"Mean Recall: {np.mean(recalls):.4f} ± {np.std(recalls):.4f}\")\n",
    "print(f\"Mean F1 Score: {np.mean(f1_scores):.4f} ± {np.std(f1_scores):.4f}\")\n",
    "\n",
    "import matplotlib.pyplot as plt\n",
    "plt.hist(accuracies)\n"
   ]
  },
  {
   "cell_type": "code",
   "execution_count": 2,
   "metadata": {},
   "outputs": [
    {
     "name": "stdout",
     "output_type": "stream",
     "text": [
      "\n",
      "Overall Performance:\n",
      "Mean Accuracy: 0.8250 ± 0.0817\n",
      "Mean Precision: 0.8184 ± 0.0850\n",
      "Mean Recall: 0.9989 ± 0.0085\n",
      "Mean F1 Score: 0.8972 ± 0.0517\n"
     ]
    },
    {
     "data": {
      "text/plain": [
       "(array([ 3.,  9.,  0., 13.,  0., 15., 10.,  0.,  9.,  1.]),\n",
       " array([0.66666667, 0.7       , 0.73333333, 0.76666667, 0.8       ,\n",
       "        0.83333333, 0.86666667, 0.9       , 0.93333333, 0.96666667,\n",
       "        1.        ]),\n",
       " <BarContainer object of 10 artists>)"
      ]
     },
     "execution_count": 2,
     "metadata": {},
     "output_type": "execute_result"
    },
    {
     "data": {
      "image/png": "[encoded data removed]",
      "text/plain": [
       "<Figure size 640x480 with 1 Axes>"
      ]
     },
     "metadata": {},
     "output_type": "display_data"
    }
   ],
   "source": [
    "import numpy as np\n",
    "import pandas as pd\n",
    "from sklearn.metrics import accuracy_score, precision_score, recall_score, f1_score\n",
    "from tqdm import tqdm\n",
    "\n",
    "base_path = \"/Users/nandini.gadhia/Documents/projects/gp_omics/GP_OMICS/outdir_nan_pca/split_\"\n",
    "n_splits = 100 \n",
    "\n",
    "accuracies = []\n",
    "precisions = []\n",
    "recalls = []\n",
    "f1_scores = []\n",
    "\n",
    "for i in range(60):\n",
    "    try:\n",
    "        # Load true labels\n",
    "        y_test = np.loadtxt(base_path + f\"{i}_Y_test.csv\", delimiter=\",\")\n",
    "        \n",
    "        # Load predicted labels\n",
    "        y_pred = np.loadtxt(base_path + f\"{i}_Pred_Y_mean.csv\", delimiter=\",\")\n",
    "        \n",
    "        # Compute metrics\n",
    "        accuracy = accuracy_score(y_test, y_pred)\n",
    "        precision = precision_score(y_test, y_pred, zero_division=0)\n",
    "        recall = recall_score(y_test, y_pred, zero_division=0)\n",
    "        f1 = f1_score(y_test, y_pred, zero_division=0)\n",
    "        \n",
    "        # Store results\n",
    "        accuracies.append(accuracy)\n",
    "        precisions.append(precision)\n",
    "        recalls.append(recall)\n",
    "        f1_scores.append(f1)\n",
    "        \n",
    "        #print(f\"Split {i + 1}/{n_splits} - Accuracy: {accuracy:.4f}, Precision: {precision:.4f}, Recall: {recall:.4f}, F1 Score: {f1:.4f}\")\n",
    "        \n",
    "    except Exception as e:\n",
    "        print(f\"Error processing split {i}: {e}\")\n",
    "\n",
    "# Compute overall performance\n",
    "print(\"\\nOverall Performance:\")\n",
    "print(f\"Mean Accuracy: {np.mean(accuracies):.4f} ± {np.std(accuracies):.4f}\")\n",
    "print(f\"Mean Precision: {np.mean(precisions):.4f} ± {np.std(precisions):.4f}\")\n",
    "print(f\"Mean Recall: {np.mean(recalls):.4f} ± {np.std(recalls):.4f}\")\n",
    "print(f\"Mean F1 Score: {np.mean(f1_scores):.4f} ± {np.std(f1_scores):.4f}\")\n",
    "\n",
    "import matplotlib.pyplot as plt\n",
    "plt.hist(accuracies)\n"
   ]
  },
  {
   "cell_type": "code",
   "execution_count": 1,
   "metadata": {},
   "outputs": [
    {
     "name": "stdout",
     "output_type": "stream",
     "text": [
      "\n",
      "Overall Performance:\n",
      "Mean Accuracy: 0.7796 ± 0.0830\n",
      "Mean Precision: 0.7796 ± 0.0830\n",
      "Mean Recall: 1.0000 ± 0.0000\n",
      "Mean F1 Score: 0.8737 ± 0.0528\n"
     ]
    },
    {
     "data": {
      "text/plain": [
       "(array([1., 5., 0., 4., 0., 8., 8., 0., 2., 2.]),\n",
       " array([0.61111111, 0.64444444, 0.67777778, 0.71111111, 0.74444444,\n",
       "        0.77777778, 0.81111111, 0.84444444, 0.87777778, 0.91111111,\n",
       "        0.94444444]),\n",
       " <BarContainer object of 10 artists>)"
      ]
     },
     "execution_count": 1,
     "metadata": {},
     "output_type": "execute_result"
    },
    {
     "data": {
      "image/png": "[encoded data removed]",
      "text/plain": [
       "<Figure size 640x480 with 1 Axes>"
      ]
     },
     "metadata": {},
     "output_type": "display_data"
    }
   ],
   "source": [
    "import numpy as np\n",
    "import pandas as pd\n",
    "from sklearn.metrics import accuracy_score, precision_score, recall_score, f1_score\n",
    "from tqdm import tqdm\n",
    "\n",
    "base_path = \"/Users/nandini.gadhia/Documents/projects/gp_omics/GP_OMICS/outdir_nan_umap/split_\"\n",
    "n_splits = 60\n",
    "\n",
    "accuracies = []\n",
    "precisions = []\n",
    "recalls = []\n",
    "f1_scores = []\n",
    "\n",
    "for i in range(30):\n",
    "    try:\n",
    "        # Load true labels\n",
    "        y_test = np.loadtxt(base_path + f\"{i}_Y_test.csv\", delimiter=\",\")\n",
    "        \n",
    "        # Load predicted labels\n",
    "        y_pred = np.loadtxt(base_path + f\"{i}_Pred_Y_mean_01.csv\", delimiter=\",\")\n",
    "        \n",
    "        # Compute metrics\n",
    "        accuracy = accuracy_score(y_test, y_pred)\n",
    "        #print(accuracy)\n",
    "        precision = precision_score(y_test, y_pred, zero_division=0)\n",
    "        recall = recall_score(y_test, y_pred, zero_division=0)\n",
    "        f1 = f1_score(y_test, y_pred, zero_division=0)\n",
    "        \n",
    "        # Store results\n",
    "        accuracies.append(accuracy)\n",
    "        precisions.append(precision)\n",
    "        recalls.append(recall)\n",
    "        f1_scores.append(f1)\n",
    "        \n",
    "    except Exception as e:\n",
    "        print(f\"Error processing split {i}: {e}\")\n",
    "\n",
    "# Compute overall performance\n",
    "print(\"\\nOverall Performance:\")\n",
    "print(f\"Mean Accuracy: {np.mean(accuracies):.4f} ± {np.std(accuracies):.4f}\")\n",
    "print(f\"Mean Precision: {np.mean(precisions):.4f} ± {np.std(precisions):.4f}\")\n",
    "print(f\"Mean Recall: {np.mean(recalls):.4f} ± {np.std(recalls):.4f}\")\n",
    "print(f\"Mean F1 Score: {np.mean(f1_scores):.4f} ± {np.std(f1_scores):.4f}\")\n",
    "\n",
    "import matplotlib.pyplot as plt\n",
    "plt.hist(accuracies)\n"
   ]
  },
  {
   "cell_type": "code",
   "execution_count": 3,
   "metadata": {},
   "outputs": [
    {
     "name": "stdout",
     "output_type": "stream",
     "text": [
      "\n",
      "Overall Performance:\n",
      "Mean Accuracy: 1.0000 ± 0.0000\n",
      "Mean Precision: 1.0000 ± 0.0000\n",
      "Mean Recall: 1.0000 ± 0.0000\n",
      "Mean F1 Score: 1.0000 ± 0.0000\n"
     ]
    },
    {
     "data": {
      "text/plain": [
       "(array([ 0.,  0.,  0.,  0.,  0., 30.,  0.,  0.,  0.,  0.]),\n",
       " array([0.5, 0.6, 0.7, 0.8, 0.9, 1. , 1.1, 1.2, 1.3, 1.4, 1.5]),\n",
       " <BarContainer object of 10 artists>)"
      ]
     },
     "execution_count": 3,
     "metadata": {},
     "output_type": "execute_result"
    },
    {
     "data": {
      "image/png": "[encoded data removed]",
      "text/plain": [
       "<Figure size 640x480 with 1 Axes>"
      ]
     },
     "metadata": {},
     "output_type": "display_data"
    }
   ],
   "source": [
    "import numpy as np\n",
    "import pandas as pd\n",
    "from sklearn.metrics import accuracy_score, precision_score, recall_score, f1_score\n",
    "from tqdm import tqdm\n",
    "\n",
    "base_path = \"/Users/nandini.gadhia/Documents/projects/gp_omics/GP_OMICS/outdir_nan_attributes/split_\"\n",
    "n_splits = 30\n",
    "\n",
    "accuracies = []\n",
    "precisions = []\n",
    "recalls = []\n",
    "f1_scores = []\n",
    "\n",
    "for i in range(30):\n",
    "    try:\n",
    "        # Load true labels\n",
    "        y_test = np.loadtxt(base_path + f\"{i}_Y_test.csv\", delimiter=\",\")\n",
    "        \n",
    "        # Load predicted labels\n",
    "        y_pred = np.loadtxt(base_path + f\"{i}_Pred_Y_mean_01.csv\", delimiter=\",\")\n",
    "        \n",
    "        # Compute metrics\n",
    "        accuracy = accuracy_score(y_test, y_pred)\n",
    "        #print(accuracy)\n",
    "        precision = precision_score(y_test, y_pred, zero_division=0)\n",
    "        recall = recall_score(y_test, y_pred, zero_division=0)\n",
    "        f1 = f1_score(y_test, y_pred, zero_division=0)\n",
    "        \n",
    "        # Store results\n",
    "        accuracies.append(accuracy)\n",
    "        precisions.append(precision)\n",
    "        recalls.append(recall)\n",
    "        f1_scores.append(f1)\n",
    "        \n",
    "    except Exception as e:\n",
    "        print(f\"Error processing split {i}: {e}\")\n",
    "\n",
    "# Compute overall performance\n",
    "print(\"\\nOverall Performance:\")\n",
    "print(f\"Mean Accuracy: {np.mean(accuracies):.4f} ± {np.std(accuracies):.4f}\")\n",
    "print(f\"Mean Precision: {np.mean(precisions):.4f} ± {np.std(precisions):.4f}\")\n",
    "print(f\"Mean Recall: {np.mean(recalls):.4f} ± {np.std(recalls):.4f}\")\n",
    "print(f\"Mean F1 Score: {np.mean(f1_scores):.4f} ± {np.std(f1_scores):.4f}\")\n",
    "\n",
    "import matplotlib.pyplot as plt\n",
    "plt.hist(accuracies)\n"
   ]
  }
 ],
 "metadata": {
  "kernelspec": {
   "display_name": "aligness",
   "language": "python",
   "name": "python3"
  },
  "language_info": {
   "codemirror_mode": {
    "name": "ipython",
    "version": 3
   },
   "file_extension": ".py",
   "mimetype": "text/x-python",
   "name": "python",
   "nbconvert_exporter": "python",
   "pygments_lexer": "ipython3",
   "version": "3.9.21"
  }
 },
 "nbformat": 4,
 "nbformat_minor": 2
}

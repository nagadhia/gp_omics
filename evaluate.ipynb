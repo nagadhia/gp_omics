{
 "cells": [
  {
   "cell_type": "code",
   "execution_count": 32,
   "metadata": {},
   "outputs": [
    {
     "name": "stdout",
     "output_type": "stream",
     "text": [
      "\n",
      "Overall Performance:\n",
      "Mean Accuracy: 0.7648 ± 0.0948\n",
      "Mean Precision: 0.7648 ± 0.0948\n",
      "Mean Recall: 1.0000 ± 0.0000\n",
      "Mean F1 Score: 0.8633 ± 0.0638\n"
     ]
    },
    {
     "data": {
      "text/plain": [
       "(array([3., 0., 2., 0., 6., 9., 0., 6., 3., 1.]),\n",
       " array([0.55555556, 0.59444444, 0.63333333, 0.67222222, 0.71111111,\n",
       "        0.75      , 0.78888889, 0.82777778, 0.86666667, 0.90555556,\n",
       "        0.94444444]),\n",
       " <BarContainer object of 10 artists>)"
      ]
     },
     "execution_count": 32,
     "metadata": {},
     "output_type": "execute_result"
    },
    {
     "data": {
      "image/png": "[encoded data removed]",
      "text/plain": [
       "<Figure size 640x480 with 1 Axes>"
      ]
     },
     "metadata": {},
     "output_type": "display_data"
    }
   ],
   "source": [
    "import numpy as np\n",
    "import pandas as pd\n",
    "from sklearn.metrics import accuracy_score, precision_score, recall_score, f1_score\n",
    "from tqdm import tqdm\n",
    "\n",
    "base_path = \"/Users/nandini.gadhia/Documents/projects/gp_omics/GP_OMICS/outdir/split_\"\n",
    "n_splits = 100 \n",
    "\n",
    "accuracies = []\n",
    "precisions = []\n",
    "recalls = []\n",
    "f1_scores = []\n",
    "\n",
    "for i in range(30):\n",
    "    try:\n",
    "        # Load true labels\n",
    "        y_test = np.loadtxt(base_path + f\"{i}_Y_test.csv\", delimiter=\",\")\n",
    "        \n",
    "        # Load predicted labels\n",
    "        y_pred = np.loadtxt(base_path + f\"{i}_Pred_Y_mean.csv\", delimiter=\",\")\n",
    "        \n",
    "        # Compute metrics\n",
    "        accuracy = accuracy_score(y_test, y_pred)\n",
    "        precision = precision_score(y_test, y_pred, zero_division=0)\n",
    "        recall = recall_score(y_test, y_pred, zero_division=0)\n",
    "        f1 = f1_score(y_test, y_pred, zero_division=0)\n",
    "        \n",
    "        # Store results\n",
    "        accuracies.append(accuracy)\n",
    "        precisions.append(precision)\n",
    "        recalls.append(recall)\n",
    "        f1_scores.append(f1)\n",
    "        \n",
    "        #print(f\"Split {i + 1}/{n_splits} - Accuracy: {accuracy:.4f}, Precision: {precision:.4f}, Recall: {recall:.4f}, F1 Score: {f1:.4f}\")\n",
    "        \n",
    "    except Exception as e:\n",
    "        print(f\"Error processing split {i}: {e}\")\n",
    "\n",
    "# Compute overall performance\n",
    "print(\"\\nOverall Performance:\")\n",
    "print(f\"Mean Accuracy: {np.mean(accuracies):.4f} ± {np.std(accuracies):.4f}\")\n",
    "print(f\"Mean Precision: {np.mean(precisions):.4f} ± {np.std(precisions):.4f}\")\n",
    "print(f\"Mean Recall: {np.mean(recalls):.4f} ± {np.std(recalls):.4f}\")\n",
    "print(f\"Mean F1 Score: {np.mean(f1_scores):.4f} ± {np.std(f1_scores):.4f}\")\n",
    "\n",
    "import matplotlib.pyplot as plt\n",
    "plt.hist(accuracies)\n"
   ]
  },
  {
   "cell_type": "code",
   "execution_count": 34,
   "metadata": {},
   "outputs": [
    {
     "name": "stdout",
     "output_type": "stream",
     "text": [
      "Error processing split 0: /Users/nandini.gadhia/Documents/projects/gp_omics/GP_OMICS/outdir_nan_umap/split_0_Y_test.csv not found.\n",
      "Error processing split 1: /Users/nandini.gadhia/Documents/projects/gp_omics/GP_OMICS/outdir_nan_umap/split_1_Y_test.csv not found.\n",
      "Error processing split 2: /Users/nandini.gadhia/Documents/projects/gp_omics/GP_OMICS/outdir_nan_umap/split_2_Y_test.csv not found.\n",
      "Error processing split 3: /Users/nandini.gadhia/Documents/projects/gp_omics/GP_OMICS/outdir_nan_umap/split_3_Y_test.csv not found.\n",
      "Error processing split 4: /Users/nandini.gadhia/Documents/projects/gp_omics/GP_OMICS/outdir_nan_umap/split_4_Y_test.csv not found.\n",
      "Error processing split 5: /Users/nandini.gadhia/Documents/projects/gp_omics/GP_OMICS/outdir_nan_umap/split_5_Y_test.csv not found.\n",
      "Error processing split 6: /Users/nandini.gadhia/Documents/projects/gp_omics/GP_OMICS/outdir_nan_umap/split_6_Y_test.csv not found.\n",
      "Error processing split 7: /Users/nandini.gadhia/Documents/projects/gp_omics/GP_OMICS/outdir_nan_umap/split_7_Y_test.csv not found.\n",
      "Error processing split 8: /Users/nandini.gadhia/Documents/projects/gp_omics/GP_OMICS/outdir_nan_umap/split_8_Y_test.csv not found.\n",
      "Error processing split 9: /Users/nandini.gadhia/Documents/projects/gp_omics/GP_OMICS/outdir_nan_umap/split_9_Y_test.csv not found.\n",
      "Error processing split 10: /Users/nandini.gadhia/Documents/projects/gp_omics/GP_OMICS/outdir_nan_umap/split_10_Y_test.csv not found.\n",
      "Error processing split 11: /Users/nandini.gadhia/Documents/projects/gp_omics/GP_OMICS/outdir_nan_umap/split_11_Y_test.csv not found.\n",
      "Error processing split 12: /Users/nandini.gadhia/Documents/projects/gp_omics/GP_OMICS/outdir_nan_umap/split_12_Y_test.csv not found.\n",
      "Error processing split 13: /Users/nandini.gadhia/Documents/projects/gp_omics/GP_OMICS/outdir_nan_umap/split_13_Y_test.csv not found.\n",
      "Error processing split 14: /Users/nandini.gadhia/Documents/projects/gp_omics/GP_OMICS/outdir_nan_umap/split_14_Y_test.csv not found.\n",
      "Error processing split 15: /Users/nandini.gadhia/Documents/projects/gp_omics/GP_OMICS/outdir_nan_umap/split_15_Y_test.csv not found.\n",
      "Error processing split 16: /Users/nandini.gadhia/Documents/projects/gp_omics/GP_OMICS/outdir_nan_umap/split_16_Y_test.csv not found.\n",
      "Error processing split 17: /Users/nandini.gadhia/Documents/projects/gp_omics/GP_OMICS/outdir_nan_umap/split_17_Y_test.csv not found.\n",
      "Error processing split 18: /Users/nandini.gadhia/Documents/projects/gp_omics/GP_OMICS/outdir_nan_umap/split_18_Y_test.csv not found.\n",
      "Error processing split 19: /Users/nandini.gadhia/Documents/projects/gp_omics/GP_OMICS/outdir_nan_umap/split_19_Y_test.csv not found.\n",
      "Error processing split 20: /Users/nandini.gadhia/Documents/projects/gp_omics/GP_OMICS/outdir_nan_umap/split_20_Y_test.csv not found.\n",
      "Error processing split 21: /Users/nandini.gadhia/Documents/projects/gp_omics/GP_OMICS/outdir_nan_umap/split_21_Y_test.csv not found.\n",
      "Error processing split 22: /Users/nandini.gadhia/Documents/projects/gp_omics/GP_OMICS/outdir_nan_umap/split_22_Y_test.csv not found.\n",
      "Error processing split 23: /Users/nandini.gadhia/Documents/projects/gp_omics/GP_OMICS/outdir_nan_umap/split_23_Y_test.csv not found.\n",
      "Error processing split 24: /Users/nandini.gadhia/Documents/projects/gp_omics/GP_OMICS/outdir_nan_umap/split_24_Y_test.csv not found.\n",
      "Error processing split 25: /Users/nandini.gadhia/Documents/projects/gp_omics/GP_OMICS/outdir_nan_umap/split_25_Y_test.csv not found.\n",
      "Error processing split 26: /Users/nandini.gadhia/Documents/projects/gp_omics/GP_OMICS/outdir_nan_umap/split_26_Y_test.csv not found.\n",
      "Error processing split 27: /Users/nandini.gadhia/Documents/projects/gp_omics/GP_OMICS/outdir_nan_umap/split_27_Y_test.csv not found.\n",
      "Error processing split 28: /Users/nandini.gadhia/Documents/projects/gp_omics/GP_OMICS/outdir_nan_umap/split_28_Y_test.csv not found.\n",
      "Error processing split 29: /Users/nandini.gadhia/Documents/projects/gp_omics/GP_OMICS/outdir_nan_umap/split_29_Y_test.csv not found.\n",
      "\n",
      "Overall Performance:\n",
      "Mean Accuracy: nan ± nan\n",
      "Mean Precision: nan ± nan\n",
      "Mean Recall: nan ± nan\n",
      "Mean F1 Score: nan ± nan\n"
     ]
    },
    {
     "name": "stderr",
     "output_type": "stream",
     "text": [
      "/Users/nandini.gadhia/miniforge3/envs/aligness/lib/python3.9/site-packages/numpy/_core/fromnumeric.py:3596: RuntimeWarning: Mean of empty slice.\n",
      "  return _methods._mean(a, axis=axis, dtype=dtype,\n",
      "/Users/nandini.gadhia/miniforge3/envs/aligness/lib/python3.9/site-packages/numpy/_core/_methods.py:138: RuntimeWarning: invalid value encountered in scalar divide\n",
      "  ret = ret.dtype.type(ret / rcount)\n",
      "/Users/nandini.gadhia/miniforge3/envs/aligness/lib/python3.9/site-packages/numpy/_core/_methods.py:218: RuntimeWarning: Degrees of freedom <= 0 for slice\n",
      "  ret = _var(a, axis=axis, dtype=dtype, out=out, ddof=ddof,\n",
      "/Users/nandini.gadhia/miniforge3/envs/aligness/lib/python3.9/site-packages/numpy/_core/_methods.py:175: RuntimeWarning: invalid value encountered in divide\n",
      "  arrmean = um.true_divide(arrmean, div, out=arrmean,\n",
      "/Users/nandini.gadhia/miniforge3/envs/aligness/lib/python3.9/site-packages/numpy/_core/_methods.py:210: RuntimeWarning: invalid value encountered in scalar divide\n",
      "  ret = ret.dtype.type(ret / rcount)\n"
     ]
    },
    {
     "data": {
      "text/plain": [
       "(array([0., 0., 0., 0., 0., 0., 0., 0., 0., 0.]),\n",
       " array([0. , 0.1, 0.2, 0.3, 0.4, 0.5, 0.6, 0.7, 0.8, 0.9, 1. ]),\n",
       " <BarContainer object of 10 artists>)"
      ]
     },
     "execution_count": 34,
     "metadata": {},
     "output_type": "execute_result"
    },
    {
     "data": {
      "image/png": "[encoded data removed]",
      "text/plain": [
       "<Figure size 640x480 with 1 Axes>"
      ]
     },
     "metadata": {},
     "output_type": "display_data"
    }
   ],
   "source": [
    "import numpy as np\n",
    "import pandas as pd\n",
    "from sklearn.metrics import accuracy_score, precision_score, recall_score, f1_score\n",
    "from tqdm import tqdm\n",
    "\n",
    "base_path = \"/Users/nandini.gadhia/Documents/projects/gp_omics/GP_OMICS/outdir_nan_umap/split_\"\n",
    "n_splits = 100 \n",
    "\n",
    "accuracies = []\n",
    "precisions = []\n",
    "recalls = []\n",
    "f1_scores = []\n",
    "\n",
    "for i in range(30):\n",
    "    try:\n",
    "        # Load true labels\n",
    "        y_test = np.loadtxt(base_path + f\"{i}_Y_test.csv\", delimiter=\",\")\n",
    "        \n",
    "        # Load predicted labels\n",
    "        y_pred = np.loadtxt(base_path + f\"{i}_Pred_Y_mean.csv\", delimiter=\",\")\n",
    "        \n",
    "        # Compute metrics\n",
    "        accuracy = accuracy_score(y_test, y_pred)\n",
    "        precision = precision_score(y_test, y_pred, zero_division=0)\n",
    "        recall = recall_score(y_test, y_pred, zero_division=0)\n",
    "        f1 = f1_score(y_test, y_pred, zero_division=0)\n",
    "        \n",
    "        # Store results\n",
    "        accuracies.append(accuracy)\n",
    "        precisions.append(precision)\n",
    "        recalls.append(recall)\n",
    "        f1_scores.append(f1)\n",
    "        \n",
    "        #print(f\"Split {i + 1}/{n_splits} - Accuracy: {accuracy:.4f}, Precision: {precision:.4f}, Recall: {recall:.4f}, F1 Score: {f1:.4f}\")\n",
    "        \n",
    "    except Exception as e:\n",
    "        print(f\"Error processing split {i}: {e}\")\n",
    "\n",
    "# Compute overall performance\n",
    "print(\"\\nOverall Performance:\")\n",
    "print(f\"Mean Accuracy: {np.mean(accuracies):.4f} ± {np.std(accuracies):.4f}\")\n",
    "print(f\"Mean Precision: {np.mean(precisions):.4f} ± {np.std(precisions):.4f}\")\n",
    "print(f\"Mean Recall: {np.mean(recalls):.4f} ± {np.std(recalls):.4f}\")\n",
    "print(f\"Mean F1 Score: {np.mean(f1_scores):.4f} ± {np.std(f1_scores):.4f}\")\n",
    "\n",
    "import matplotlib.pyplot as plt\n",
    "plt.hist(accuracies)\n"
   ]
  }
 ],
 "metadata": {
  "kernelspec": {
   "display_name": "aligness",
   "language": "python",
   "name": "python3"
  },
  "language_info": {
   "codemirror_mode": {
    "name": "ipython",
    "version": 3
   },
   "file_extension": ".py",
   "mimetype": "text/x-python",
   "name": "python",
   "nbconvert_exporter": "python",
   "pygments_lexer": "ipython3",
   "version": "3.9.21"
  }
 },
 "nbformat": 4,
 "nbformat_minor": 2
}

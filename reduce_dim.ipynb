{
 "cells": [
  {
   "cell_type": "code",
   "execution_count": 13,
   "metadata": {},
   "outputs": [
    {
     "name": "stderr",
     "output_type": "stream",
     "text": [
      "/Users/nandini.gadhia/miniforge3/envs/gp/lib/python3.13/site-packages/sklearn/utils/deprecation.py:151: FutureWarning: 'force_all_finite' was renamed to 'ensure_all_finite' in 1.6 and will be removed in 1.8.\n",
      "  warnings.warn(\n",
      "/Users/nandini.gadhia/miniforge3/envs/gp/lib/python3.13/site-packages/umap/umap_.py:1952: UserWarning: n_jobs value 1 overridden to 1 by setting random_state. Use no seed for parallelism.\n",
      "  warn(\n",
      "/Users/nandini.gadhia/miniforge3/envs/gp/lib/python3.13/site-packages/sklearn/utils/deprecation.py:151: FutureWarning: 'force_all_finite' was renamed to 'ensure_all_finite' in 1.6 and will be removed in 1.8.\n",
      "  warnings.warn(\n",
      "/Users/nandini.gadhia/miniforge3/envs/gp/lib/python3.13/site-packages/umap/umap_.py:1952: UserWarning: n_jobs value 1 overridden to 1 by setting random_state. Use no seed for parallelism.\n",
      "  warn(\n"
     ]
    },
    {
     "name": "stdout",
     "output_type": "stream",
     "text": [
      "UMAP reduced data with 20 components saved to /Users/nandini.gadhia/Documents/projects/gp_omics/data_rvc/OTU_table_umap.csv\n"
     ]
    }
   ],
   "source": [
    "import pandas as pd\n",
    "import numpy as np\n",
    "import umap\n",
    "from sklearn.manifold import TSNE\n",
    "\n",
    "# Load the data\n",
    "file_path = '/Users/nandini.gadhia/Documents/projects/gp_omics/data_rvc/OTU_table.csv'\n",
    "df = pd.read_csv(file_path)\n",
    "\n",
    "# Assuming the first column is an identifier and rest are features\n",
    "if df.shape[1] > 1:\n",
    "    features = df.iloc[:, 1:]\n",
    "else:\n",
    "    raise ValueError(\"Dataset does not have enough columns for dimensionality reduction.\")\n",
    "\n",
    "# Fit UMAP with a large number of components\n",
    "initial_n_components = min(20, features.shape[1])\n",
    "umap_reducer = umap.UMAP(n_components=initial_n_components, random_state=42)\n",
    "umap_result = umap_reducer.fit_transform(features)\n",
    "\n",
    "# Determine the number of components that preserve 90% variance\n",
    "cumulative_variance = np.cumsum(np.var(umap_result, axis=0)) / np.sum(np.var(umap_result, axis=0))\n",
    "n_components_90 = np.argmax(cumulative_variance >= 0.95) + 1\n",
    "\n",
    "# Re-run UMAP with the optimal number of components\n",
    "umap_reducer = umap.UMAP(n_components=80, random_state=42)\n",
    "umap_result = umap_reducer.fit_transform(features)\n",
    "\n",
    "# Create a DataFrame for the reduced data\n",
    "umap_columns = [f'UMAP_{i+1}' for i in range(n_components_90)]\n",
    "umap_df = pd.DataFrame(umap_result)\n",
    "\n",
    "\n",
    "# Save the reduced data\n",
    "umap_output_path = '/Users/nandini.gadhia/Documents/projects/gp_omics/data_rvc/OTU_table_umap.csv'\n",
    "\n",
    "umap_df.to_csv(umap_output_path, index=False)\n",
    "\n",
    "print(f\"UMAP reduced data with {n_components_90} components saved to {umap_output_path}\")\n"
   ]
  },
  {
   "cell_type": "code",
   "execution_count": 5,
   "metadata": {},
   "outputs": [
    {
     "data": {
      "text/plain": [
       "740"
      ]
     },
     "execution_count": 5,
     "metadata": {},
     "output_type": "execute_result"
    }
   ],
   "source": [
    "features.shape[1]"
   ]
  }
 ],
 "metadata": {
  "kernelspec": {
   "display_name": "gp",
   "language": "python",
   "name": "python3"
  },
  "language_info": {
   "codemirror_mode": {
    "name": "ipython",
    "version": 3
   },
   "file_extension": ".py",
   "mimetype": "text/x-python",
   "name": "python",
   "nbconvert_exporter": "python",
   "pygments_lexer": "ipython3",
   "version": "3.13.1"
  }
 },
 "nbformat": 4,
 "nbformat_minor": 2
}
